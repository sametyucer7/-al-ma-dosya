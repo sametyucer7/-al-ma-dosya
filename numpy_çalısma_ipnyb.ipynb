{
  "cells": [
    {
      "cell_type": "markdown",
      "source": [
        "-----------**NUMPY NEDİR ?** ❗❗❗❗"
      ],
      "metadata": {
        "id": "YrzcR-eS_LZt"
      }
    },
    {
      "cell_type": "markdown",
      "source": [
        "\n",
        "pyhton dosyaları .py ve .ipynb olarak çalışır\n"
      ],
      "metadata": {
        "id": "Wo1HBjJUwRZa"
      }
    },
    {
      "cell_type": "code",
      "source": [
        "# numpy kütüphanesinin en temel elemanı arraylerdir.\n",
        "\n",
        "# phythonun diziler komutunun çok boyutlu haline benzer.\n",
        "\n",
        "#numpy kütüphanesi yüksek oranda c ve c++ ile yazılmıştır."
      ],
      "metadata": {
        "id": "xvDZD7-K_LiG"
      },
      "execution_count": null,
      "outputs": []
    },
    {
      "cell_type": "code",
      "source": [
        "import numpy as np"
      ],
      "metadata": {
        "id": "Yph5e-YtA2Fy"
      },
      "execution_count": 2,
      "outputs": []
    },
    {
      "cell_type": "code",
      "source": [
        "# Arrayler çok boyutlu diziler gibi düşünülebilir.\n",
        "\n",
        "# Arraylerin boyutları (dimension) vardır. 0d ,1d ,2d ,3d , 4d ....\n",
        "\n",
        "# Arrayleri oluşturmanıon 3 farjku yolu vardır.\n",
        "\n",
        "# 1) Liste yada tuple benzeri nesneleri arraye dönüştürebiliriz.        np.array([1,2,3])\n",
        "\n",
        "# 2) Built_in hazır fonksiyonlra yardımıyla arrayler oluşturabiliriz.   np.arenge() , np.linscape() , np.logspace()\n",
        "\n",
        "# 3) Rastgele data üreterek                                             np.rando modülünün içindeki fonksiyonlar yardımı ile."
      ],
      "metadata": {
        "id": "5lgYohxgBLnP"
      },
      "execution_count": null,
      "outputs": []
    },
    {
      "cell_type": "code",
      "source": [
        "arr0d = np.array(53)\n",
        "arr0d\n",
        "\n",
        "# 0 BOYUTLU BİR ARRAY YAPTIK\n",
        "# JUPYTER NOTEBOOKLAR EN SON YAZILAN KOMUTU PRİNT ALGILAR"
      ],
      "metadata": {
        "colab": {
          "base_uri": "https://localhost:8080/"
        },
        "id": "eklpiNU_DuQz",
        "outputId": "e29e8f21-ee0a-4692-b4af-a1c885c58599"
      },
      "execution_count": null,
      "outputs": [
        {
          "output_type": "execute_result",
          "data": {
            "text/plain": [
              "array(53)"
            ]
          },
          "metadata": {},
          "execution_count": 3
        }
      ]
    },
    {
      "cell_type": "code",
      "source": [
        "arr1d = np.array([1,2,3,4])\n",
        "arr1d\n",
        "\n",
        "# Array'in kaç boyutlu olduğunu anlamak için ([[]]) parantez içindeki köşeli parantez sayısına bakılır\n",
        "\n",
        "arr2d = np.array([[1,3,5],[2,4,6]])\n",
        "arr2d"
      ],
      "metadata": {
        "colab": {
          "base_uri": "https://localhost:8080/"
        },
        "id": "ot0lafYUEXMw",
        "outputId": "3a6b812b-ebee-4a24-c6eb-7386878425b6"
      },
      "execution_count": null,
      "outputs": [
        {
          "output_type": "execute_result",
          "data": {
            "text/plain": [
              "array([[1, 3, 5],\n",
              "       [2, 4, 6]])"
            ]
          },
          "metadata": {},
          "execution_count": 5
        }
      ]
    },
    {
      "cell_type": "code",
      "source": [
        "arr2d[0]"
      ],
      "metadata": {
        "colab": {
          "base_uri": "https://localhost:8080/"
        },
        "id": "YnnRItOME4wm",
        "outputId": "ff45ace2-5517-414b-b512-528640c4e74b"
      },
      "execution_count": null,
      "outputs": [
        {
          "output_type": "execute_result",
          "data": {
            "text/plain": [
              "array([1, 3, 5])"
            ]
          },
          "metadata": {},
          "execution_count": 8
        }
      ]
    },
    {
      "cell_type": "code",
      "source": [
        "arr3d = np.array([\n",
        "    [[1, 2, 3], [4, 5, 6]],\n",
        "    [[7, 8, 9], [10, 11, 12]],\n",
        "    [[100, 200, 300], [400, 500, 600]]\n",
        "])\n",
        "\n",
        "arr3d"
      ],
      "metadata": {
        "colab": {
          "base_uri": "https://localhost:8080/"
        },
        "id": "4-twoPeYFCUZ",
        "outputId": "631ec581-14e6-40e5-bb12-2d9d0c11a021"
      },
      "execution_count": null,
      "outputs": [
        {
          "output_type": "execute_result",
          "data": {
            "text/plain": [
              "array([[[  1,   2,   3],\n",
              "        [  4,   5,   6]],\n",
              "\n",
              "       [[  7,   8,   9],\n",
              "        [ 10,  11,  12]],\n",
              "\n",
              "       [[100, 200, 300],\n",
              "        [400, 500, 600]]])"
            ]
          },
          "metadata": {},
          "execution_count": 12
        }
      ]
    },
    {
      "cell_type": "code",
      "source": [
        "arr3d[0]"
      ],
      "metadata": {
        "colab": {
          "base_uri": "https://localhost:8080/"
        },
        "id": "zBA12CPIGbvZ",
        "outputId": "c2a44ca8-389c-48d9-ca8c-29f7e3d4304a"
      },
      "execution_count": null,
      "outputs": [
        {
          "output_type": "execute_result",
          "data": {
            "text/plain": [
              "array([[1, 2, 3],\n",
              "       [4, 5, 6]])"
            ]
          },
          "metadata": {},
          "execution_count": 13
        }
      ]
    },
    {
      "cell_type": "markdown",
      "source": [
        "----- **BUİLT-İN FONKSİYONLAR İLE HIZLICA NUMPY ARRAYLERİ OLUŞTURMA** -----"
      ],
      "metadata": {
        "id": "ZHlf5t_eHiBl"
      }
    },
    {
      "cell_type": "code",
      "source": [
        "# np.arange() fonkisyonu ile hızlıca arrayler oluşturabiliriz . İstediğimiz sayı aralığında ardışık artan arrayler oluştururuz.\n",
        "# Kullanımı aynı .range() gibi . Start point dahil , End point dahil değil.\n",
        "# Gene range olduğuğ gibi (start-end-step) olarak görev yapar"
      ],
      "metadata": {
        "id": "E8PvJun6Htfw"
      },
      "execution_count": null,
      "outputs": []
    },
    {
      "cell_type": "code",
      "source": [
        "np.arange(0,101,2)"
      ],
      "metadata": {
        "colab": {
          "base_uri": "https://localhost:8080/"
        },
        "id": "2re5mljcRYY5",
        "outputId": "41b51dd3-9f7a-4393-df8d-50add6dca3a5"
      },
      "execution_count": null,
      "outputs": [
        {
          "output_type": "execute_result",
          "data": {
            "text/plain": [
              "array([  0,   2,   4,   6,   8,  10,  12,  14,  16,  18,  20,  22,  24,\n",
              "        26,  28,  30,  32,  34,  36,  38,  40,  42,  44,  46,  48,  50,\n",
              "        52,  54,  56,  58,  60,  62,  64,  66,  68,  70,  72,  74,  76,\n",
              "        78,  80,  82,  84,  86,  88,  90,  92,  94,  96,  98, 100])"
            ]
          },
          "metadata": {},
          "execution_count": 14
        }
      ]
    },
    {
      "cell_type": "code",
      "source": [
        "# np.linspace fonksiyonuyla da hızlıca arrayler oluşturulabilir\n",
        "\n",
        "np.linspace(30,50,6)\n",
        "# (başlangıç-son-aralıkta istenilen değer sayısı)\n",
        "# END POİNT DAHİLDİR"
      ],
      "metadata": {
        "colab": {
          "base_uri": "https://localhost:8080/"
        },
        "id": "WF8yAu7uRdwZ",
        "outputId": "82a583c0-d990-4f31-a4d0-7e7561e0e26f"
      },
      "execution_count": null,
      "outputs": [
        {
          "output_type": "execute_result",
          "data": {
            "text/plain": [
              "array([30., 34., 38., 42., 46., 50.])"
            ]
          },
          "metadata": {},
          "execution_count": 15
        }
      ]
    },
    {
      "cell_type": "code",
      "source": [
        "np.logspace(1,3,7)\n",
        "# 10 ÜZERİ 1 İLE 10 ÜZERİ 3 ARASINDA 7 ADET SAYI VERDİ"
      ],
      "metadata": {
        "colab": {
          "base_uri": "https://localhost:8080/"
        },
        "id": "9XesPf9JRjsO",
        "outputId": "5c810ee5-ca8e-4188-c24c-c49a1129886c"
      },
      "execution_count": null,
      "outputs": [
        {
          "output_type": "execute_result",
          "data": {
            "text/plain": [
              "array([  10.        ,   21.5443469 ,   46.41588834,  100.        ,\n",
              "        215.443469  ,  464.15888336, 1000.        ])"
            ]
          },
          "metadata": {},
          "execution_count": 17
        }
      ]
    },
    {
      "cell_type": "code",
      "source": [
        "np.arange(10,101,5)"
      ],
      "metadata": {
        "colab": {
          "base_uri": "https://localhost:8080/"
        },
        "id": "eyo7ztjISSdV",
        "outputId": "2a986590-63f9-4976-be69-4d459b84d401"
      },
      "execution_count": null,
      "outputs": [
        {
          "output_type": "execute_result",
          "data": {
            "text/plain": [
              "array([ 10,  15,  20,  25,  30,  35,  40,  45,  50,  55,  60,  65,  70,\n",
              "        75,  80,  85,  90,  95, 100])"
            ]
          },
          "metadata": {},
          "execution_count": 18
        }
      ]
    },
    {
      "cell_type": "code",
      "source": [
        "np.linspace(0,1000,26)"
      ],
      "metadata": {
        "colab": {
          "base_uri": "https://localhost:8080/"
        },
        "id": "8j_82eoBSeI7",
        "outputId": "16fb3d77-5113-46e9-a3e5-f17d8a21aacd"
      },
      "execution_count": null,
      "outputs": [
        {
          "output_type": "execute_result",
          "data": {
            "text/plain": [
              "array([   0.,   40.,   80.,  120.,  160.,  200.,  240.,  280.,  320.,\n",
              "        360.,  400.,  440.,  480.,  520.,  560.,  600.,  640.,  680.,\n",
              "        720.,  760.,  800.,  840.,  880.,  920.,  960., 1000.])"
            ]
          },
          "metadata": {},
          "execution_count": 20
        }
      ]
    },
    {
      "cell_type": "code",
      "source": [
        "np.zeros(5,dtype=int)\n",
        "# 0 LARDAN ARRAY OLUŞTURUR"
      ],
      "metadata": {
        "colab": {
          "base_uri": "https://localhost:8080/"
        },
        "id": "voX9752ZTDb5",
        "outputId": "88dbec40-9b88-4a19-8fdf-9c0fbe2b45c1"
      },
      "execution_count": null,
      "outputs": [
        {
          "output_type": "execute_result",
          "data": {
            "text/plain": [
              "array([0, 0, 0, 0, 0])"
            ]
          },
          "metadata": {},
          "execution_count": 21
        }
      ]
    },
    {
      "cell_type": "code",
      "source": [
        "np.zeros((3,2) , dtype = int)"
      ],
      "metadata": {
        "colab": {
          "base_uri": "https://localhost:8080/"
        },
        "id": "aVFMvrg9uxPp",
        "outputId": "545cc26e-500c-4bbe-a9c8-36a1a662b994"
      },
      "execution_count": null,
      "outputs": [
        {
          "output_type": "execute_result",
          "data": {
            "text/plain": [
              "array([[0, 0],\n",
              "       [0, 0],\n",
              "       [0, 0]])"
            ]
          },
          "metadata": {},
          "execution_count": 27
        }
      ]
    },
    {
      "cell_type": "code",
      "source": [
        "np.ones(10,dtype=int)"
      ],
      "metadata": {
        "colab": {
          "base_uri": "https://localhost:8080/"
        },
        "id": "s1sOBty90drL",
        "outputId": "593b9d64-0a13-49e7-98d9-5f8ced948e48"
      },
      "execution_count": null,
      "outputs": [
        {
          "output_type": "execute_result",
          "data": {
            "text/plain": [
              "array([1, 1, 1, 1, 1, 1, 1, 1, 1, 1])"
            ]
          },
          "metadata": {},
          "execution_count": 30
        }
      ]
    },
    {
      "cell_type": "code",
      "source": [
        "np.ones((3,5),dtype=int) # (1 listesinden kaç adet olcağı,kaç adet 1 olcağı)\n"
      ],
      "metadata": {
        "colab": {
          "base_uri": "https://localhost:8080/"
        },
        "id": "C1r5ZkiL0Dh0",
        "outputId": "568c8347-d585-4300-e675-616ec39989dc"
      },
      "execution_count": null,
      "outputs": [
        {
          "output_type": "execute_result",
          "data": {
            "text/plain": [
              "array([[1, 1, 1, 1, 1],\n",
              "       [1, 1, 1, 1, 1],\n",
              "       [1, 1, 1, 1, 1]])"
            ]
          },
          "metadata": {},
          "execution_count": 28
        }
      ]
    },
    {
      "cell_type": "code",
      "source": [
        "np.eye(5,dtype = int) # KÖŞEGENDEKİ TÜM DEĞERLER 1 OLCAK ŞEKİLDE GİRİLEN SAYI KADAR YxY LİK BİR KARE VERİR"
      ],
      "metadata": {
        "colab": {
          "base_uri": "https://localhost:8080/"
        },
        "id": "REPDBpk_0jDx",
        "outputId": "f5a36932-ab1b-4cbf-96c7-d2f37c6d1d48"
      },
      "execution_count": null,
      "outputs": [
        {
          "output_type": "execute_result",
          "data": {
            "text/plain": [
              "array([[1, 0, 0, 0, 0],\n",
              "       [0, 1, 0, 0, 0],\n",
              "       [0, 0, 1, 0, 0],\n",
              "       [0, 0, 0, 1, 0],\n",
              "       [0, 0, 0, 0, 1]])"
            ]
          },
          "metadata": {},
          "execution_count": 31
        }
      ]
    },
    {
      "cell_type": "code",
      "source": [
        "np.zeros((2,6),dtype = int)"
      ],
      "metadata": {
        "colab": {
          "base_uri": "https://localhost:8080/"
        },
        "id": "eUxzUkZY03qv",
        "outputId": "e6b1ad20-35c6-4335-efe2-6630d2b09758"
      },
      "execution_count": null,
      "outputs": [
        {
          "output_type": "execute_result",
          "data": {
            "text/plain": [
              "array([[0, 0, 0, 0, 0, 0],\n",
              "       [0, 0, 0, 0, 0, 0]])"
            ]
          },
          "metadata": {},
          "execution_count": 32
        }
      ]
    },
    {
      "cell_type": "code",
      "source": [
        "# np.random MODÜLÜ İLE RASTGELE ARRAYLER OLUŞTURMA"
      ],
      "metadata": {
        "id": "Fk_Smyxp1KVM"
      },
      "execution_count": null,
      "outputs": []
    },
    {
      "cell_type": "code",
      "source": [
        "np.random.rand(2) # RAND MODÜLÜ 0 - 1 ARASINDA SAYI DÖNDÜRÜR .rand(x) X KADAR DÖNDÜRÜR"
      ],
      "metadata": {
        "colab": {
          "base_uri": "https://localhost:8080/"
        },
        "id": "191zem5M1sIC",
        "outputId": "b1c8dec6-871b-4193-bcd3-a6b485aa10a4"
      },
      "execution_count": null,
      "outputs": [
        {
          "output_type": "execute_result",
          "data": {
            "text/plain": [
              "array([0.11098648, 0.65230604])"
            ]
          },
          "metadata": {},
          "execution_count": 33
        }
      ]
    },
    {
      "cell_type": "code",
      "source": [
        "np.random.rand(4,3) # 1 BOYUTLU İSTENİRSE .rand(X,Y) X = kaç tane liste olcağı  Y = listede kaç eleman olucağu"
      ],
      "metadata": {
        "colab": {
          "base_uri": "https://localhost:8080/"
        },
        "id": "0UVb5cQS19HN",
        "outputId": "677b9454-2a39-4040-d768-67bce0d6d12d"
      },
      "execution_count": null,
      "outputs": [
        {
          "output_type": "execute_result",
          "data": {
            "text/plain": [
              "array([[0.81302046, 0.96630641, 0.76165874],\n",
              "       [0.98430816, 0.69704748, 0.83639652],\n",
              "       [0.24696474, 0.19965417, 0.20411409],\n",
              "       [0.61719376, 0.78716693, 0.16655907]])"
            ]
          },
          "metadata": {},
          "execution_count": 36
        }
      ]
    },
    {
      "cell_type": "code",
      "source": [
        "np.random.randint(15,50,5) # .randint(x,y,z) X = Alt sınır , Y = Üst sınır Z = Aralıktan kaç eleman istendiği"
      ],
      "metadata": {
        "colab": {
          "base_uri": "https://localhost:8080/"
        },
        "id": "Q4uQN-792YRB",
        "outputId": "490b3a72-8c6d-479b-ae2a-52da1a6d1f1d"
      },
      "execution_count": null,
      "outputs": [
        {
          "output_type": "execute_result",
          "data": {
            "text/plain": [
              "array([26, 36, 23, 36, 15])"
            ]
          },
          "metadata": {},
          "execution_count": 37
        }
      ]
    },
    {
      "cell_type": "code",
      "source": [
        "np.random.randint(15,50,(3,5)) # SONDAKİ PARANTEZ YİNE AYNI İLK ELEMAN KAÇ LİSTE OLCAĞI 2. ELEMEN KAÇ TANE ELEMAN OLCAĞI"
      ],
      "metadata": {
        "colab": {
          "base_uri": "https://localhost:8080/"
        },
        "id": "URG4vAis2uIm",
        "outputId": "d8c85d1f-e236-4434-8425-fae3a0de816c"
      },
      "execution_count": null,
      "outputs": [
        {
          "output_type": "execute_result",
          "data": {
            "text/plain": [
              "array([[24, 31, 20, 41, 40],\n",
              "       [28, 41, 39, 23, 20],\n",
              "       [17, 21, 31, 32, 32]])"
            ]
          },
          "metadata": {},
          "execution_count": 38
        }
      ]
    },
    {
      "cell_type": "code",
      "source": [
        "np.random.randint(0,50,(4,6))"
      ],
      "metadata": {
        "colab": {
          "base_uri": "https://localhost:8080/"
        },
        "id": "Dhf0u25E28UX",
        "outputId": "04323f00-ed0e-40c3-b45d-d3e3df551464"
      },
      "execution_count": null,
      "outputs": [
        {
          "output_type": "execute_result",
          "data": {
            "text/plain": [
              "array([[ 4, 45,  2, 27,  3, 40],\n",
              "       [18, 19,  6, 35, 43, 33],\n",
              "       [27, 28,  8, 45, 21, 42],\n",
              "       [ 2, 19, 46, 44, 40, 31]])"
            ]
          },
          "metadata": {},
          "execution_count": 39
        }
      ]
    },
    {
      "cell_type": "markdown",
      "source": [
        "---- ARRAYİN BOYUT SAYISINI VE SHAPE İNİ KONTROL ETMEK -----"
      ],
      "metadata": {
        "id": "PWhY9Po53GIy"
      }
    },
    {
      "cell_type": "code",
      "source": [
        "# .ndim attrşbute ı ile arrayimizin kaç boyutlu olduğunu öğrenebiliriz"
      ],
      "metadata": {
        "id": "KL2AmGYJ3NC5"
      },
      "execution_count": null,
      "outputs": []
    },
    {
      "cell_type": "code",
      "source": [
        "arr2d.ndim"
      ],
      "metadata": {
        "colab": {
          "base_uri": "https://localhost:8080/"
        },
        "id": "5l-O2PBg3XS2",
        "outputId": "d6858ee7-5e59-444c-bf4d-d1abf9774e66"
      },
      "execution_count": null,
      "outputs": [
        {
          "output_type": "execute_result",
          "data": {
            "text/plain": [
              "2"
            ]
          },
          "metadata": {},
          "execution_count": 40
        }
      ]
    },
    {
      "cell_type": "code",
      "source": [
        "# .shape attribute ı ile arraying shapeine bakılabilir\n",
        "arr2d.shape\n",
        "# bir nevi kaç satır ve sütun olduğunu döndürür"
      ],
      "metadata": {
        "colab": {
          "base_uri": "https://localhost:8080/"
        },
        "id": "irO8rXqc3hye",
        "outputId": "fecc6398-1766-4871-b217-a6d6abb22649"
      },
      "execution_count": null,
      "outputs": [
        {
          "output_type": "execute_result",
          "data": {
            "text/plain": [
              "(2, 3)"
            ]
          },
          "metadata": {},
          "execution_count": 41
        }
      ]
    },
    {
      "cell_type": "markdown",
      "source": [
        "---- NUMPY ARRAYLERİNİ İNDEKSLEME VE ÖGELERİME ERİŞME"
      ],
      "metadata": {
        "id": "R5-AZBfv4WL-"
      }
    },
    {
      "cell_type": "code",
      "source": [
        "arr1d # 1 boyutlu arrayler aynı listeler gibidir."
      ],
      "metadata": {
        "id": "JKOPV2DR4awd"
      },
      "execution_count": null,
      "outputs": []
    },
    {
      "cell_type": "code",
      "source": [
        "arr1d[0]"
      ],
      "metadata": {
        "colab": {
          "base_uri": "https://localhost:8080/"
        },
        "id": "YRiRQHxm4i0l",
        "outputId": "544622fc-19a4-451d-eb12-ac32b2f92977"
      },
      "execution_count": null,
      "outputs": [
        {
          "output_type": "execute_result",
          "data": {
            "text/plain": [
              "np.int64(1)"
            ]
          },
          "metadata": {},
          "execution_count": 42
        }
      ]
    },
    {
      "cell_type": "code",
      "source": [
        "arr2d[0]"
      ],
      "metadata": {
        "colab": {
          "base_uri": "https://localhost:8080/"
        },
        "id": "ck7N5FVe4mzQ",
        "outputId": "d3afbaa9-c2e2-46df-99a4-da94e3d240c8"
      },
      "execution_count": null,
      "outputs": [
        {
          "output_type": "execute_result",
          "data": {
            "text/plain": [
              "array([1, 3, 5])"
            ]
          },
          "metadata": {},
          "execution_count": 43
        }
      ]
    },
    {
      "cell_type": "code",
      "source": [
        "arr2d[0][0]"
      ],
      "metadata": {
        "colab": {
          "base_uri": "https://localhost:8080/"
        },
        "id": "6FUDFkit4q-r",
        "outputId": "b8d8fccd-8587-4cca-bf5e-82b4a2fa16f6"
      },
      "execution_count": null,
      "outputs": [
        {
          "output_type": "execute_result",
          "data": {
            "text/plain": [
              "np.int64(1)"
            ]
          },
          "metadata": {},
          "execution_count": 45
        }
      ]
    },
    {
      "cell_type": "code",
      "source": [
        "arr3d[1][1][1]"
      ],
      "metadata": {
        "colab": {
          "base_uri": "https://localhost:8080/"
        },
        "id": "6Wrg7ARI4yzA",
        "outputId": "058beefc-5ce4-4a07-e6f6-25216b29fe6d"
      },
      "execution_count": null,
      "outputs": [
        {
          "output_type": "execute_result",
          "data": {
            "text/plain": [
              "np.int64(11)"
            ]
          },
          "metadata": {},
          "execution_count": 47
        }
      ]
    },
    {
      "cell_type": "markdown",
      "source": [
        "---- NUMPY DİZİLERİNİN MAX - MİN ELEMANLARINA VE BU ELEMAN İNDEXLERİNE ERİŞME\n"
      ],
      "metadata": {
        "id": "LzWS-dK055-q"
      }
    },
    {
      "cell_type": "code",
      "source": [
        "arr = np.random.randint(1,100,10)\n",
        "arr"
      ],
      "metadata": {
        "colab": {
          "base_uri": "https://localhost:8080/"
        },
        "id": "03M-C4kF6AOq",
        "outputId": "7582cb70-19b5-45b7-aae1-8893600d38e8"
      },
      "execution_count": 3,
      "outputs": [
        {
          "output_type": "execute_result",
          "data": {
            "text/plain": [
              "array([59, 14, 70, 45, 80,  3, 66, 72, 34, 65])"
            ]
          },
          "metadata": {},
          "execution_count": 3
        }
      ]
    },
    {
      "cell_type": "code",
      "source": [
        "arr.max() / arr.min()"
      ],
      "metadata": {
        "colab": {
          "base_uri": "https://localhost:8080/"
        },
        "id": "QN4o56rf6XkJ",
        "outputId": "e1b33684-d2c2-4fba-86b9-582c6b2661c8"
      },
      "execution_count": 4,
      "outputs": [
        {
          "output_type": "execute_result",
          "data": {
            "text/plain": [
              "np.int64(80)"
            ]
          },
          "metadata": {},
          "execution_count": 4
        }
      ]
    },
    {
      "cell_type": "code",
      "source": [
        "arr.argmax() /// arr.argmin()"
      ],
      "metadata": {
        "colab": {
          "base_uri": "https://localhost:8080/"
        },
        "id": "Em4ogxiI6awf",
        "outputId": "792af0f7-e39d-4d62-ded4-091daa91efe0"
      },
      "execution_count": 5,
      "outputs": [
        {
          "output_type": "execute_result",
          "data": {
            "text/plain": [
              "np.int64(4)"
            ]
          },
          "metadata": {},
          "execution_count": 5
        }
      ]
    },
    {
      "cell_type": "markdown",
      "source": [
        "\n",
        "------- NUMPY ARRAYLERİNDE SLİCİNG(DİLİMLEME) YAPILABİLİR\n"
      ],
      "metadata": {
        "id": "oucd8sHR6kQs"
      }
    },
    {
      "cell_type": "code",
      "source": [
        "arr= np.arange(50,65)\n",
        "arr"
      ],
      "metadata": {
        "colab": {
          "base_uri": "https://localhost:8080/"
        },
        "id": "QS_JbYto6h10",
        "outputId": "868d0ee8-5f87-4374-da47-6a13bf5f50a8"
      },
      "execution_count": 9,
      "outputs": [
        {
          "output_type": "execute_result",
          "data": {
            "text/plain": [
              "array([50, 51, 52, 53, 54, 55, 56, 57, 58, 59, 60, 61, 62, 63, 64])"
            ]
          },
          "metadata": {},
          "execution_count": 9
        }
      ]
    },
    {
      "cell_type": "code",
      "source": [
        "arr[-5:]"
      ],
      "metadata": {
        "colab": {
          "base_uri": "https://localhost:8080/"
        },
        "id": "_bCDmOuv7GPy",
        "outputId": "fffc00ad-ecbf-4f27-8a22-7aab610a71cc"
      },
      "execution_count": 10,
      "outputs": [
        {
          "output_type": "execute_result",
          "data": {
            "text/plain": [
              "array([60, 61, 62, 63, 64])"
            ]
          },
          "metadata": {},
          "execution_count": 10
        }
      ]
    },
    {
      "cell_type": "code",
      "source": [
        "arr[5:11]"
      ],
      "metadata": {
        "colab": {
          "base_uri": "https://localhost:8080/"
        },
        "id": "LcZ0Rauc679h",
        "outputId": "777accf0-2ac0-4312-d0e7-138f02cce59e"
      },
      "execution_count": 11,
      "outputs": [
        {
          "output_type": "execute_result",
          "data": {
            "text/plain": [
              "array([55, 56, 57, 58, 59, 60])"
            ]
          },
          "metadata": {},
          "execution_count": 11
        }
      ]
    },
    {
      "cell_type": "code",
      "source": [
        "arr[5:11] = 789\n",
        "arr"
      ],
      "metadata": {
        "colab": {
          "base_uri": "https://localhost:8080/"
        },
        "id": "zoeGP8oq7oPj",
        "outputId": "aa0d4d61-2c08-40ec-ce9e-6f9cbe070a88"
      },
      "execution_count": 12,
      "outputs": [
        {
          "output_type": "execute_result",
          "data": {
            "text/plain": [
              "array([ 50,  51,  52,  53,  54, 789, 789, 789, 789, 789, 789,  61,  62,\n",
              "        63,  64])"
            ]
          },
          "metadata": {},
          "execution_count": 12
        }
      ]
    },
    {
      "cell_type": "markdown",
      "source": [
        "---- ARRAYİNG VERİ TÜRÜNÜ (DATA TYPE I) KONTROL ETME"
      ],
      "metadata": {
        "id": "oyhzGpB28Vyu"
      }
    },
    {
      "cell_type": "code",
      "source": [
        "#.dtype ile kontrol edilir"
      ],
      "metadata": {
        "id": "L7CFDshO8dWU"
      },
      "execution_count": null,
      "outputs": []
    },
    {
      "cell_type": "code",
      "source": [
        "arr.dtype"
      ],
      "metadata": {
        "colab": {
          "base_uri": "https://localhost:8080/"
        },
        "id": "SjtOCqGV8f3M",
        "outputId": "49118762-91c0-461e-a0ea-e872f129f079"
      },
      "execution_count": 13,
      "outputs": [
        {
          "output_type": "execute_result",
          "data": {
            "text/plain": [
              "dtype('int64')"
            ]
          },
          "metadata": {},
          "execution_count": 13
        }
      ]
    },
    {
      "cell_type": "code",
      "source": [
        "arr = np.array([\"a\",\"b\",\"c\"])\n",
        "arr.dtype"
      ],
      "metadata": {
        "colab": {
          "base_uri": "https://localhost:8080/"
        },
        "id": "4JOHG31n8qGY",
        "outputId": "15e0301f-3032-4cb2-c107-d54b28f64269"
      },
      "execution_count": 14,
      "outputs": [
        {
          "output_type": "execute_result",
          "data": {
            "text/plain": [
              "dtype('<U1')"
            ]
          },
          "metadata": {},
          "execution_count": 14
        }
      ]
    },
    {
      "cell_type": "markdown",
      "source": [
        "---- ARRAYİN D TYPE INI DEĞİŞTİRME"
      ],
      "metadata": {
        "id": "a2aJfG_V8xT1"
      }
    },
    {
      "cell_type": "code",
      "source": [
        "arr = np.array([1.2,3.5,5.8])\n",
        "arr"
      ],
      "metadata": {
        "colab": {
          "base_uri": "https://localhost:8080/"
        },
        "id": "gA11nqa4800H",
        "outputId": "86d20d69-068e-4577-a9d6-6010ede101f8"
      },
      "execution_count": 15,
      "outputs": [
        {
          "output_type": "execute_result",
          "data": {
            "text/plain": [
              "array([1.2, 3.5, 5.8])"
            ]
          },
          "metadata": {},
          "execution_count": 15
        }
      ]
    },
    {
      "cell_type": "code",
      "source": [
        "# .astype ile arraylerin dtype ı değiştirilebilir"
      ],
      "metadata": {
        "id": "EPyMHFhn9OaE"
      },
      "execution_count": null,
      "outputs": []
    },
    {
      "cell_type": "code",
      "source": [
        "arr.astype(int)"
      ],
      "metadata": {
        "colab": {
          "base_uri": "https://localhost:8080/"
        },
        "id": "FhOf7b5z9UaM",
        "outputId": "0aa36959-8b1f-40bd-9e92-085bb785e1c8"
      },
      "execution_count": 16,
      "outputs": [
        {
          "output_type": "execute_result",
          "data": {
            "text/plain": [
              "array([1, 3, 5])"
            ]
          },
          "metadata": {},
          "execution_count": 16
        }
      ]
    }
  ],
  "metadata": {
    "colab": {
      "provenance": []
    },
    "kernelspec": {
      "display_name": "Python 3",
      "name": "python3"
    }
  },
  "nbformat": 4,
  "nbformat_minor": 0
}