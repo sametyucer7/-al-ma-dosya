{
  "cells": [
    {
      "cell_type": "markdown",
      "source": [
        "\n",
        "\n",
        "**BİR ARRAYİN SHAPEİNİ KONTROL ETME**\n",
        "\n"
      ],
      "metadata": {
        "id": "FG5muYIcKq4H"
      }
    },
    {
      "cell_type": "code",
      "source": [
        "# .shape  kullanılır\n",
        "# bir arrayin shape i her boyuttaki ögelerinin sayısına eşittir"
      ],
      "metadata": {
        "id": "jTLn7wZ1Kq-J"
      },
      "execution_count": null,
      "outputs": []
    },
    {
      "cell_type": "code",
      "source": [
        "import numpy as np"
      ],
      "metadata": {
        "id": "_O5Rvqb-NZDN"
      },
      "execution_count": 1,
      "outputs": []
    },
    {
      "cell_type": "code",
      "source": [
        "arr2d = np.array([[1,2,3],[4,5,6],[7,8,9]])\n",
        "arr2d"
      ],
      "metadata": {
        "colab": {
          "base_uri": "https://localhost:8080/"
        },
        "id": "naTg-9llNSVa",
        "outputId": "88d34b20-81ba-4861-fc43-f4f0e4f8319b"
      },
      "execution_count": null,
      "outputs": [
        {
          "output_type": "execute_result",
          "data": {
            "text/plain": [
              "array([[1, 2, 3],\n",
              "       [4, 5, 6],\n",
              "       [7, 8, 9]])"
            ]
          },
          "metadata": {},
          "execution_count": 9
        }
      ]
    },
    {
      "cell_type": "code",
      "source": [
        "arr2d.shape"
      ],
      "metadata": {
        "colab": {
          "base_uri": "https://localhost:8080/"
        },
        "id": "60ujPxOvOFyG",
        "outputId": "3b1741e6-bb92-488e-84e4-08607a5bdf5d"
      },
      "execution_count": null,
      "outputs": [
        {
          "output_type": "execute_result",
          "data": {
            "text/plain": [
              "(3, 3)"
            ]
          },
          "metadata": {},
          "execution_count": 10
        }
      ]
    },
    {
      "cell_type": "code",
      "source": [
        "arr3d = np.array([[[1,2,3],[4,5,6]] , [[10,20,30],[5,10,20]]])\n",
        "arr3d.shape"
      ],
      "metadata": {
        "colab": {
          "base_uri": "https://localhost:8080/"
        },
        "id": "7DbYw06aOH9r",
        "outputId": "504e7900-fd3b-46f0-9b7a-b4382623d18a"
      },
      "execution_count": null,
      "outputs": [
        {
          "output_type": "execute_result",
          "data": {
            "text/plain": [
              "(2, 2, 3)"
            ]
          },
          "metadata": {},
          "execution_count": 12
        }
      ]
    },
    {
      "cell_type": "markdown",
      "source": [
        "---- BİR ARRAYİ RE-SHAPE ETME"
      ],
      "metadata": {
        "id": "IpXlqZMlPJba"
      }
    },
    {
      "cell_type": "code",
      "source": [
        "# .reshape methodunda toplam eleman sabit tutmaya dikkat edilmeli.\n",
        "\n",
        "# .arrange ile oluşturulan arrayler tek boyutlu bu yüzden .shape baya kullanılır."
      ],
      "metadata": {
        "id": "TOhuS-GvPTi8"
      },
      "execution_count": null,
      "outputs": []
    },
    {
      "cell_type": "code",
      "source": [
        "new_arr2d = arr3d.reshape(6,2)\n",
        "new_arr2d"
      ],
      "metadata": {
        "colab": {
          "base_uri": "https://localhost:8080/"
        },
        "id": "7GFkyQ51PkH3",
        "outputId": "7f1b4aac-1c4c-461d-fda2-42f599fa2c50"
      },
      "execution_count": null,
      "outputs": [
        {
          "output_type": "execute_result",
          "data": {
            "text/plain": [
              "array([[ 1,  2],\n",
              "       [ 3,  4],\n",
              "       [ 5,  6],\n",
              "       [10, 20],\n",
              "       [30,  5],\n",
              "       [10, 20]])"
            ]
          },
          "metadata": {},
          "execution_count": 14
        }
      ]
    },
    {
      "cell_type": "code",
      "source": [
        "new_arr = np.arange(0,100,5)\n",
        "new_arr.reshape(2,2,5)"
      ],
      "metadata": {
        "colab": {
          "base_uri": "https://localhost:8080/"
        },
        "id": "iUmSFIrgP9Wv",
        "outputId": "ba939054-5cfc-4da5-8914-699f9ff7c509"
      },
      "execution_count": null,
      "outputs": [
        {
          "output_type": "execute_result",
          "data": {
            "text/plain": [
              "array([[[ 0,  5, 10, 15, 20],\n",
              "        [25, 30, 35, 40, 45]],\n",
              "\n",
              "       [[50, 55, 60, 65, 70],\n",
              "        [75, 80, 85, 90, 95]]])"
            ]
          },
          "metadata": {},
          "execution_count": 17
        }
      ]
    },
    {
      "cell_type": "markdown",
      "source": [
        "----- BİİLNMEYEN BOYUT"
      ],
      "metadata": {
        "id": "uZ-jYVDaRH-1"
      }
    },
    {
      "cell_type": "code",
      "source": [
        "# .reshape() methodu kullanılırken hesaplamak istemediğimiz boyut yerine -1 yazıp otomatik hesaplatabiliriz."
      ],
      "metadata": {
        "id": "nc6JowGpRKC_"
      },
      "execution_count": null,
      "outputs": []
    },
    {
      "cell_type": "code",
      "source": [
        "# mesela 120 elemanlı array i 3 boyutlu yapmak için (10,2,-1) yazınca -1 kendini bilinmeyen x gibi alır ve gerekli çarpımı hesaplar yani 6 burdaki örnekte."
      ],
      "metadata": {
        "id": "BFRMeGIVRU9W"
      },
      "execution_count": null,
      "outputs": []
    },
    {
      "cell_type": "markdown",
      "source": [
        "-----ARRAYLERİ DÜZLEME (FLATTEN)"
      ],
      "metadata": {
        "id": "l-WEhfVmTNDw"
      }
    },
    {
      "cell_type": "code",
      "source": [
        "# Çok boyutlu bir arrayi tek boyutlu haline getirme\n",
        "# basitçe .reshape(-1) komutu ile yapılır"
      ],
      "metadata": {
        "id": "AJJDiG8iTQR9"
      },
      "execution_count": null,
      "outputs": []
    },
    {
      "cell_type": "code",
      "source": [
        "arr2d = np.arange(40).reshape(4,10)\n",
        "arr2d"
      ],
      "metadata": {
        "colab": {
          "base_uri": "https://localhost:8080/"
        },
        "id": "2HZLAMKlTaNN",
        "outputId": "249c8fc5-7a73-4054-8062-e4204e7ddce2"
      },
      "execution_count": null,
      "outputs": [
        {
          "output_type": "execute_result",
          "data": {
            "text/plain": [
              "array([[ 0,  1,  2,  3,  4,  5,  6,  7,  8,  9],\n",
              "       [10, 11, 12, 13, 14, 15, 16, 17, 18, 19],\n",
              "       [20, 21, 22, 23, 24, 25, 26, 27, 28, 29],\n",
              "       [30, 31, 32, 33, 34, 35, 36, 37, 38, 39]])"
            ]
          },
          "metadata": {},
          "execution_count": 19
        }
      ]
    },
    {
      "cell_type": "code",
      "source": [
        "arr2d.reshape(-1)"
      ],
      "metadata": {
        "colab": {
          "base_uri": "https://localhost:8080/"
        },
        "id": "9VPz8B-sTlUK",
        "outputId": "47f1b556-99fc-4714-e88e-179cbc5d6885"
      },
      "execution_count": null,
      "outputs": [
        {
          "output_type": "execute_result",
          "data": {
            "text/plain": [
              "array([ 0,  1,  2,  3,  4,  5,  6,  7,  8,  9, 10, 11, 12, 13, 14, 15, 16,\n",
              "       17, 18, 19, 20, 21, 22, 23, 24, 25, 26, 27, 28, 29, 30, 31, 32, 33,\n",
              "       34, 35, 36, 37, 38, 39])"
            ]
          },
          "metadata": {},
          "execution_count": 20
        }
      ]
    },
    {
      "cell_type": "markdown",
      "source": [
        "---- ÇOK BOYUTLU ARRAYLERDE ITERATİON(YİNELEME)"
      ],
      "metadata": {
        "id": "mFJzrpXW17dw"
      }
    },
    {
      "cell_type": "code",
      "source": [
        "arr2d = np.arange(20).reshape(4,5)"
      ],
      "metadata": {
        "id": "FRJP80ui2AJr"
      },
      "execution_count": null,
      "outputs": []
    },
    {
      "cell_type": "code",
      "source": [
        "for x in arr2d:\n",
        "  print(x)"
      ],
      "metadata": {
        "colab": {
          "base_uri": "https://localhost:8080/"
        },
        "id": "AxpkSm9z2Ppr",
        "outputId": "c0f8ee17-bbd7-4464-9b98-8572e60c7a3c"
      },
      "execution_count": null,
      "outputs": [
        {
          "output_type": "stream",
          "name": "stdout",
          "text": [
            "[0 1 2 3 4 5 6 7 8 9]\n",
            "[10 11 12 13 14 15 16 17 18 19]\n",
            "[20 21 22 23 24 25 26 27 28 29]\n",
            "[30 31 32 33 34 35 36 37 38 39]\n"
          ]
        }
      ]
    },
    {
      "cell_type": "code",
      "source": [
        "# for x in arr2d:\n",
        "#   for y in x:\n",
        "#     print(y)\n",
        "#FOR ÇOK KULLANIİŞSSIZDIR"
      ],
      "metadata": {
        "id": "y81A2yrb2Z8b"
      },
      "execution_count": null,
      "outputs": []
    },
    {
      "cell_type": "code",
      "source": [
        "# ÇOK BOYUTLU ARRAYLERDE .nditer() fonksiyonu bunun için geliştirilmiştir"
      ],
      "metadata": {
        "id": "6m8lWQpz3cEF"
      },
      "execution_count": null,
      "outputs": []
    },
    {
      "cell_type": "code",
      "source": [
        "for x in np.nditer(arr3d):\n",
        "  print(x)"
      ],
      "metadata": {
        "colab": {
          "base_uri": "https://localhost:8080/"
        },
        "id": "R_17Bl6l3sZA",
        "outputId": "78a8ee8b-53e4-4222-dc1c-6f0554cde38f"
      },
      "execution_count": null,
      "outputs": [
        {
          "output_type": "stream",
          "name": "stdout",
          "text": [
            "1\n",
            "2\n",
            "3\n",
            "4\n",
            "5\n",
            "6\n",
            "10\n",
            "20\n",
            "30\n",
            "5\n",
            "10\n",
            "20\n"
          ]
        }
      ]
    },
    {
      "cell_type": "markdown",
      "source": [
        "----ARRAY ELEMANLARI ARASINDA 4 İŞLEM"
      ],
      "metadata": {
        "id": "4AXkV03JE73i"
      }
    },
    {
      "cell_type": "code",
      "source": [
        "arr1 = np.array([10,20,50,100])\n",
        "arr2 = np.array([5,7,9,-1])"
      ],
      "metadata": {
        "id": "ogPNcdFWE-hx"
      },
      "execution_count": null,
      "outputs": []
    },
    {
      "cell_type": "code",
      "source": [
        "arr1 + arr2"
      ],
      "metadata": {
        "colab": {
          "base_uri": "https://localhost:8080/"
        },
        "id": "Ju1-S5acFOsg",
        "outputId": "582e2108-d022-4042-cf90-07a7b57df13a"
      },
      "execution_count": null,
      "outputs": [
        {
          "output_type": "execute_result",
          "data": {
            "text/plain": [
              "array([15, 27, 59, 99])"
            ]
          },
          "metadata": {},
          "execution_count": 29
        }
      ]
    },
    {
      "cell_type": "markdown",
      "source": [
        "----ARRAYİN TOPLAM ORTALAMA VARYANSINA STANDART SAPMASINA BAKMA"
      ],
      "metadata": {
        "id": "M-DPLI6UFrbR"
      }
    },
    {
      "cell_type": "code",
      "source": [
        "arr = np.random.randint(0,10,10)\n",
        "arr"
      ],
      "metadata": {
        "colab": {
          "base_uri": "https://localhost:8080/"
        },
        "id": "GHUAdB4hFwc8",
        "outputId": "6cebaf7b-dd3b-4e8f-a091-fb7db971cd59"
      },
      "execution_count": null,
      "outputs": [
        {
          "output_type": "execute_result",
          "data": {
            "text/plain": [
              "array([0, 2, 9, 9, 1, 1, 1, 3, 6, 4])"
            ]
          },
          "metadata": {},
          "execution_count": 30
        }
      ]
    },
    {
      "cell_type": "code",
      "source": [
        "arr.sum()"
      ],
      "metadata": {
        "colab": {
          "base_uri": "https://localhost:8080/"
        },
        "id": "_UgsfrSiGEbw",
        "outputId": "1e54b5ce-914d-4db0-8d2f-4de3f5a0b387"
      },
      "execution_count": null,
      "outputs": [
        {
          "output_type": "execute_result",
          "data": {
            "text/plain": [
              "np.int64(36)"
            ]
          },
          "metadata": {},
          "execution_count": 31
        }
      ]
    },
    {
      "cell_type": "code",
      "source": [
        "arr.mean()"
      ],
      "metadata": {
        "colab": {
          "base_uri": "https://localhost:8080/"
        },
        "id": "RpaEb6gkGGfT",
        "outputId": "6c7c4224-2dee-43a5-fd7e-a03572e2f4ab"
      },
      "execution_count": null,
      "outputs": [
        {
          "output_type": "execute_result",
          "data": {
            "text/plain": [
              "np.float64(3.6)"
            ]
          },
          "metadata": {},
          "execution_count": 32
        }
      ]
    },
    {
      "cell_type": "code",
      "source": [
        "arr.var()"
      ],
      "metadata": {
        "colab": {
          "base_uri": "https://localhost:8080/"
        },
        "id": "394ORb3tGLbH",
        "outputId": "dd12de49-6b77-4aba-cabc-c20a8de85efd"
      },
      "execution_count": null,
      "outputs": [
        {
          "output_type": "execute_result",
          "data": {
            "text/plain": [
              "np.float64(10.040000000000001)"
            ]
          },
          "metadata": {},
          "execution_count": 33
        }
      ]
    },
    {
      "cell_type": "code",
      "source": [
        "arr.std()"
      ],
      "metadata": {
        "colab": {
          "base_uri": "https://localhost:8080/"
        },
        "id": "lIeEg5SgGNts",
        "outputId": "b4add1e1-49c0-438d-baeb-a02773affb3c"
      },
      "execution_count": null,
      "outputs": [
        {
          "output_type": "execute_result",
          "data": {
            "text/plain": [
              "np.float64(3.168595903550972)"
            ]
          },
          "metadata": {},
          "execution_count": 34
        }
      ]
    },
    {
      "cell_type": "code",
      "source": [
        "np.sqrt(arr) HER ELEMANIN KAREKÖKÜ"
      ],
      "metadata": {
        "colab": {
          "base_uri": "https://localhost:8080/"
        },
        "id": "WRxCiQDYGSgS",
        "outputId": "6e96badd-643c-445e-e75c-849043968290"
      },
      "execution_count": null,
      "outputs": [
        {
          "output_type": "execute_result",
          "data": {
            "text/plain": [
              "array([0.        , 1.41421356, 3.        , 3.        , 1.        ,\n",
              "       1.        , 1.        , 1.73205081, 2.44948974, 2.        ])"
            ]
          },
          "metadata": {},
          "execution_count": 35
        }
      ]
    },
    {
      "cell_type": "markdown",
      "source": [
        "----NUMPY ARRAYLERİNİ BİRLEŞTİRME"
      ],
      "metadata": {
        "id": "u7txIXN6GedB"
      }
    },
    {
      "cell_type": "code",
      "source": [
        "# np.concatenate([],[],axis=1)"
      ],
      "metadata": {
        "id": "sqdEVigWGhfn"
      },
      "execution_count": null,
      "outputs": []
    },
    {
      "cell_type": "code",
      "source": [
        "arr1= np.array([10,20,30,70])\n",
        "\n",
        "arr2 = np.array([100,200,600,900])"
      ],
      "metadata": {
        "id": "YbOI8F8IB_hs"
      },
      "execution_count": 2,
      "outputs": []
    },
    {
      "cell_type": "code",
      "source": [
        "np.concatenate([arr1,arr2],axis=0)"
      ],
      "metadata": {
        "colab": {
          "base_uri": "https://localhost:8080/"
        },
        "id": "gU8tpyKzCMwr",
        "outputId": "5d1af1f2-2a81-4004-acb1-8ad98ce7fe0b"
      },
      "execution_count": 3,
      "outputs": [
        {
          "output_type": "execute_result",
          "data": {
            "text/plain": [
              "array([ 10,  20,  30,  70, 100, 200, 600, 900])"
            ]
          },
          "metadata": {},
          "execution_count": 3
        }
      ]
    },
    {
      "cell_type": "code",
      "source": [
        "# ARRAYLERİS TACKLEME (YIĞINLAMA)\n",
        "# yeni bir boyut eklenir 2 boytulunun 3 olması gibi"
      ],
      "metadata": {
        "id": "YqhE6BuYCjph"
      },
      "execution_count": null,
      "outputs": []
    },
    {
      "cell_type": "code",
      "source": [
        "arr1 =np.array([[1,2,3],[4,5,6]])\n",
        "arr2 =np.array([[100,200,300],[700,800,900]])"
      ],
      "metadata": {
        "id": "NZ8-OeLMCxos"
      },
      "execution_count": 4,
      "outputs": []
    },
    {
      "cell_type": "code",
      "source": [
        "np.stack([arr1,arr2],axis=0)"
      ],
      "metadata": {
        "colab": {
          "base_uri": "https://localhost:8080/"
        },
        "id": "yiiGU4nGEEOA",
        "outputId": "366f528e-e4b9-46c9-c1b7-1cc4318a10d6"
      },
      "execution_count": 5,
      "outputs": [
        {
          "output_type": "execute_result",
          "data": {
            "text/plain": [
              "array([[[  1,   2,   3],\n",
              "        [  4,   5,   6]],\n",
              "\n",
              "       [[100, 200, 300],\n",
              "        [700, 800, 900]]])"
            ]
          },
          "metadata": {},
          "execution_count": 5
        }
      ]
    },
    {
      "cell_type": "markdown",
      "source": [
        "**----   NUMPY ARRAYLERİNDE İNDEXLE ARAMA**"
      ],
      "metadata": {
        "id": "EtuFzT3GEXkP"
      }
    },
    {
      "cell_type": "code",
      "source": [
        "# aradığımız değerlerin bulunduğu indexleri döndürmek içi np.where kullanılır\n",
        "\n",
        "#np.where() içine şart alır"
      ],
      "metadata": {
        "id": "0__-63GSEWw_"
      },
      "execution_count": null,
      "outputs": []
    },
    {
      "cell_type": "code",
      "source": [
        "arr = np.array([1,2,5,6,7,7,9,2,2,2])\n",
        "np.where(arr == 9)"
      ],
      "metadata": {
        "colab": {
          "base_uri": "https://localhost:8080/"
        },
        "id": "cBhhvtlhE1Ne",
        "outputId": "80c3a912-06a7-4493-b465-9d8a0bbf1674"
      },
      "execution_count": 6,
      "outputs": [
        {
          "output_type": "execute_result",
          "data": {
            "text/plain": [
              "(array([6]),)"
            ]
          },
          "metadata": {},
          "execution_count": 6
        }
      ]
    },
    {
      "cell_type": "code",
      "source": [
        "np.where(arr == 2)"
      ],
      "metadata": {
        "colab": {
          "base_uri": "https://localhost:8080/"
        },
        "id": "77QWEvH2FEXb",
        "outputId": "a735709d-a75c-4598-99d1-ea975635211b"
      },
      "execution_count": 9,
      "outputs": [
        {
          "output_type": "execute_result",
          "data": {
            "text/plain": [
              "(array([1, 7, 8, 9]),)"
            ]
          },
          "metadata": {},
          "execution_count": 9
        }
      ]
    },
    {
      "cell_type": "code",
      "source": [
        "np.where(arr%2 !=0)"
      ],
      "metadata": {
        "colab": {
          "base_uri": "https://localhost:8080/"
        },
        "id": "0EFBa-AUFQkq",
        "outputId": "4df67bf3-70b7-4a07-b32e-54f3987e640f"
      },
      "execution_count": 10,
      "outputs": [
        {
          "output_type": "execute_result",
          "data": {
            "text/plain": [
              "(array([0, 2, 4, 5, 6]),)"
            ]
          },
          "metadata": {},
          "execution_count": 10
        }
      ]
    },
    {
      "cell_type": "code",
      "source": [
        "# numpy random kütüphanesi"
      ],
      "metadata": {
        "id": "Pe2jWMjfFXFU"
      },
      "execution_count": null,
      "outputs": []
    },
    {
      "cell_type": "code",
      "source": [
        "np.random.choice(arr)"
      ],
      "metadata": {
        "colab": {
          "base_uri": "https://localhost:8080/"
        },
        "id": "g-5jiEa2FakH",
        "outputId": "beb97080-dcac-4943-a99b-d0cc8e6670fa"
      },
      "execution_count": 11,
      "outputs": [
        {
          "output_type": "execute_result",
          "data": {
            "text/plain": [
              "np.int64(2)"
            ]
          },
          "metadata": {},
          "execution_count": 11
        }
      ]
    },
    {
      "cell_type": "code",
      "source": [
        "np.random.choice([10,20,30,40])"
      ],
      "metadata": {
        "colab": {
          "base_uri": "https://localhost:8080/"
        },
        "id": "NAiIwwu-IeyU",
        "outputId": "a6b8b106-a49c-4c5e-89a0-202189069c4a"
      },
      "execution_count": 13,
      "outputs": [
        {
          "output_type": "execute_result",
          "data": {
            "text/plain": [
              "np.int64(10)"
            ]
          },
          "metadata": {},
          "execution_count": 13
        }
      ]
    }
  ],
  "metadata": {
    "colab": {
      "toc_visible": true,
      "provenance": []
    },
    "kernelspec": {
      "display_name": "Python 3",
      "name": "python3"
    }
  },
  "nbformat": 4,
  "nbformat_minor": 0
}